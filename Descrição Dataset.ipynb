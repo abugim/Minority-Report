{
 "cells": [
  {
   "cell_type": "markdown",
   "metadata": {},
   "source": [
    "# 1. Introduction\n",
    "---"
   ]
  },
  {
   "cell_type": "markdown",
   "metadata": {},
   "source": [
    "# 2. Data description\n",
    "---"
   ]
  },
  {
   "cell_type": "code",
   "execution_count": 1,
   "metadata": {
    "collapsed": true
   },
   "outputs": [],
   "source": [
    "import numpy as np\n",
    "import pandas as pd\n",
    "import matplotlib.pyplot as plt\n",
    "# %matplotlib inline"
   ]
  },
  {
   "cell_type": "code",
   "execution_count": 2,
   "metadata": {},
   "outputs": [
    {
     "data": {
      "text/html": [
       "<div>\n",
       "<table border=\"1\" class=\"dataframe\">\n",
       "  <thead>\n",
       "    <tr style=\"text-align: right;\">\n",
       "      <th></th>\n",
       "      <th>Incident ID</th>\n",
       "      <th>CR Number</th>\n",
       "      <th>Dispatch Date / Time</th>\n",
       "      <th>Class</th>\n",
       "      <th>Class Description</th>\n",
       "      <th>Police District Name</th>\n",
       "      <th>Block Address</th>\n",
       "      <th>City</th>\n",
       "      <th>State</th>\n",
       "      <th>Zip Code</th>\n",
       "      <th>...</th>\n",
       "      <th>Sector</th>\n",
       "      <th>Beat</th>\n",
       "      <th>PRA</th>\n",
       "      <th>Start Date / Time</th>\n",
       "      <th>End Date / Time</th>\n",
       "      <th>Latitude</th>\n",
       "      <th>Longitude</th>\n",
       "      <th>Police District Number</th>\n",
       "      <th>Location</th>\n",
       "      <th>Address Number</th>\n",
       "    </tr>\n",
       "  </thead>\n",
       "  <tbody>\n",
       "    <tr>\n",
       "      <th>0</th>\n",
       "      <td>200939101</td>\n",
       "      <td>13047006</td>\n",
       "      <td>10/02/2013 07:52:41 PM</td>\n",
       "      <td>511</td>\n",
       "      <td>BURG FORCE-RES/NIGHT</td>\n",
       "      <td>OTHER</td>\n",
       "      <td>25700  MT RADNOR DR</td>\n",
       "      <td>DAMASCUS</td>\n",
       "      <td>MD</td>\n",
       "      <td>20872.0</td>\n",
       "      <td>...</td>\n",
       "      <td>NaN</td>\n",
       "      <td>NaN</td>\n",
       "      <td>NaN</td>\n",
       "      <td>10/02/2013 07:52:00 PM</td>\n",
       "      <td>NaN</td>\n",
       "      <td>NaN</td>\n",
       "      <td>NaN</td>\n",
       "      <td>OTHER</td>\n",
       "      <td>NaN</td>\n",
       "      <td>25700.0</td>\n",
       "    </tr>\n",
       "    <tr>\n",
       "      <th>1</th>\n",
       "      <td>200952042</td>\n",
       "      <td>13062965</td>\n",
       "      <td>12/31/2013 09:46:58 PM</td>\n",
       "      <td>1834</td>\n",
       "      <td>CDS-POSS MARIJUANA/HASHISH</td>\n",
       "      <td>GERMANTOWN</td>\n",
       "      <td>GUNNERS BRANCH  RD</td>\n",
       "      <td>GERMANTOWN</td>\n",
       "      <td>MD</td>\n",
       "      <td>20874.0</td>\n",
       "      <td>...</td>\n",
       "      <td>M</td>\n",
       "      <td>5M1</td>\n",
       "      <td>470.0</td>\n",
       "      <td>12/31/2013 09:46:00 PM</td>\n",
       "      <td>NaN</td>\n",
       "      <td>NaN</td>\n",
       "      <td>NaN</td>\n",
       "      <td>5D</td>\n",
       "      <td>NaN</td>\n",
       "      <td>NaN</td>\n",
       "    </tr>\n",
       "    <tr>\n",
       "      <th>2</th>\n",
       "      <td>200926636</td>\n",
       "      <td>13031483</td>\n",
       "      <td>07/06/2013 09:06:24 AM</td>\n",
       "      <td>1412</td>\n",
       "      <td>VANDALISM-MOTOR VEHICLE</td>\n",
       "      <td>MONTGOMERY VILLAGE</td>\n",
       "      <td>OLDE TOWNE  AVE</td>\n",
       "      <td>GAITHERSBURG</td>\n",
       "      <td>MD</td>\n",
       "      <td>20877.0</td>\n",
       "      <td>...</td>\n",
       "      <td>P</td>\n",
       "      <td>6P3</td>\n",
       "      <td>431.0</td>\n",
       "      <td>07/06/2013 09:06:00 AM</td>\n",
       "      <td>NaN</td>\n",
       "      <td>NaN</td>\n",
       "      <td>NaN</td>\n",
       "      <td>6D</td>\n",
       "      <td>NaN</td>\n",
       "      <td>NaN</td>\n",
       "    </tr>\n",
       "    <tr>\n",
       "      <th>3</th>\n",
       "      <td>200929538</td>\n",
       "      <td>13035288</td>\n",
       "      <td>07/28/2013 09:13:15 PM</td>\n",
       "      <td>2752</td>\n",
       "      <td>FUGITIVE FROM JUSTICE(OUT OF STATE)</td>\n",
       "      <td>BETHESDA</td>\n",
       "      <td>BEACH  DR</td>\n",
       "      <td>CHEVY CHASE</td>\n",
       "      <td>MD</td>\n",
       "      <td>20815.0</td>\n",
       "      <td>...</td>\n",
       "      <td>D</td>\n",
       "      <td>2D1</td>\n",
       "      <td>11.0</td>\n",
       "      <td>07/28/2013 09:13:00 PM</td>\n",
       "      <td>NaN</td>\n",
       "      <td>NaN</td>\n",
       "      <td>NaN</td>\n",
       "      <td>2D</td>\n",
       "      <td>NaN</td>\n",
       "      <td>NaN</td>\n",
       "    </tr>\n",
       "    <tr>\n",
       "      <th>4</th>\n",
       "      <td>200930689</td>\n",
       "      <td>13036876</td>\n",
       "      <td>08/06/2013 05:16:17 PM</td>\n",
       "      <td>2812</td>\n",
       "      <td>DRIVING UNDER THE INFLUENCE</td>\n",
       "      <td>BETHESDA</td>\n",
       "      <td>BEACH  DR</td>\n",
       "      <td>SILVER SPRING</td>\n",
       "      <td>MD</td>\n",
       "      <td>20815.0</td>\n",
       "      <td>...</td>\n",
       "      <td>D</td>\n",
       "      <td>2D3</td>\n",
       "      <td>178.0</td>\n",
       "      <td>08/06/2013 05:16:00 PM</td>\n",
       "      <td>NaN</td>\n",
       "      <td>NaN</td>\n",
       "      <td>NaN</td>\n",
       "      <td>2D</td>\n",
       "      <td>NaN</td>\n",
       "      <td>NaN</td>\n",
       "    </tr>\n",
       "  </tbody>\n",
       "</table>\n",
       "<p>5 rows × 22 columns</p>\n",
       "</div>"
      ],
      "text/plain": [
       "   Incident ID  CR Number    Dispatch Date / Time  Class  \\\n",
       "0    200939101   13047006  10/02/2013 07:52:41 PM    511   \n",
       "1    200952042   13062965  12/31/2013 09:46:58 PM   1834   \n",
       "2    200926636   13031483  07/06/2013 09:06:24 AM   1412   \n",
       "3    200929538   13035288  07/28/2013 09:13:15 PM   2752   \n",
       "4    200930689   13036876  08/06/2013 05:16:17 PM   2812   \n",
       "\n",
       "                     Class Description Police District Name  \\\n",
       "0                 BURG FORCE-RES/NIGHT                OTHER   \n",
       "1           CDS-POSS MARIJUANA/HASHISH           GERMANTOWN   \n",
       "2              VANDALISM-MOTOR VEHICLE   MONTGOMERY VILLAGE   \n",
       "3  FUGITIVE FROM JUSTICE(OUT OF STATE)             BETHESDA   \n",
       "4          DRIVING UNDER THE INFLUENCE             BETHESDA   \n",
       "\n",
       "         Block Address           City State  Zip Code      ...       Sector  \\\n",
       "0  25700  MT RADNOR DR       DAMASCUS    MD   20872.0      ...          NaN   \n",
       "1   GUNNERS BRANCH  RD     GERMANTOWN    MD   20874.0      ...            M   \n",
       "2      OLDE TOWNE  AVE   GAITHERSBURG    MD   20877.0      ...            P   \n",
       "3            BEACH  DR    CHEVY CHASE    MD   20815.0      ...            D   \n",
       "4            BEACH  DR  SILVER SPRING    MD   20815.0      ...            D   \n",
       "\n",
       "  Beat    PRA       Start Date / Time  End Date / Time Latitude Longitude  \\\n",
       "0  NaN    NaN  10/02/2013 07:52:00 PM              NaN      NaN       NaN   \n",
       "1  5M1  470.0  12/31/2013 09:46:00 PM              NaN      NaN       NaN   \n",
       "2  6P3  431.0  07/06/2013 09:06:00 AM              NaN      NaN       NaN   \n",
       "3  2D1   11.0  07/28/2013 09:13:00 PM              NaN      NaN       NaN   \n",
       "4  2D3  178.0  08/06/2013 05:16:00 PM              NaN      NaN       NaN   \n",
       "\n",
       "   Police District Number  Location Address Number  \n",
       "0                   OTHER       NaN        25700.0  \n",
       "1                      5D       NaN            NaN  \n",
       "2                      6D       NaN            NaN  \n",
       "3                      2D       NaN            NaN  \n",
       "4                      2D       NaN            NaN  \n",
       "\n",
       "[5 rows x 22 columns]"
      ]
     },
     "execution_count": 2,
     "metadata": {},
     "output_type": "execute_result"
    }
   ],
   "source": [
    "crimes_df = pd.read_csv(\"MontgomeryCountyCrime2013.csv\")\n",
    "crimes_df.head(5)"
   ]
  },
  {
   "cell_type": "code",
   "execution_count": 3,
   "metadata": {
    "scrolled": false
   },
   "outputs": [
    {
     "data": {
      "text/plain": [
       "Incident ID                 int64\n",
       "CR Number                   int64\n",
       "Dispatch Date / Time       object\n",
       "Class                       int64\n",
       "Class Description          object\n",
       "Police District Name       object\n",
       "Block Address              object\n",
       "City                       object\n",
       "State                      object\n",
       "Zip Code                  float64\n",
       "Agency                     object\n",
       "Place                      object\n",
       "Sector                     object\n",
       "Beat                       object\n",
       "PRA                       float64\n",
       "Start Date / Time          object\n",
       "End Date / Time            object\n",
       "Latitude                  float64\n",
       "Longitude                 float64\n",
       "Police District Number     object\n",
       "Location                   object\n",
       "Address Number            float64\n",
       "dtype: object"
      ]
     },
     "execution_count": 3,
     "metadata": {},
     "output_type": "execute_result"
    }
   ],
   "source": [
    "crimes_df.dtypes"
   ]
  },
  {
   "cell_type": "code",
   "execution_count": 30,
   "metadata": {},
   "outputs": [
    {
     "data": {
      "text/plain": [
       "{'ASHTON',\n",
       " 'BARNESVILLE',\n",
       " 'BEALLSVILLE',\n",
       " 'BETHESDA',\n",
       " 'BOYDS',\n",
       " 'BRINKLOW',\n",
       " 'BROOKEVILLE',\n",
       " 'BURTONSVILLE',\n",
       " 'CABIN JOHN',\n",
       " 'CHEVY CHASE',\n",
       " 'CLARKSBURG',\n",
       " 'DAMASCUS',\n",
       " 'DERWOOD',\n",
       " 'DICKERSON',\n",
       " 'GAITHERSBURG',\n",
       " 'GERMANTOWN',\n",
       " 'GLEN ECHO',\n",
       " 'HYATTSVILLE',\n",
       " 'KENSINGTON',\n",
       " 'KISSIMMEE',\n",
       " 'LAUREL',\n",
       " 'MONTGOMERY VILLAGE',\n",
       " 'MOUNT AIRY',\n",
       " 'OLNEY',\n",
       " 'POOLESVILLE',\n",
       " 'POTOMAC',\n",
       " 'ROCKVILLE',\n",
       " 'SANDY SPRING',\n",
       " 'SILVER SPRING',\n",
       " 'SPENCERVILLE',\n",
       " 'TAKOMA PARK',\n",
       " 'WASHINGTON GROVE'}"
      ]
     },
     "execution_count": 30,
     "metadata": {},
     "output_type": "execute_result"
    }
   ],
   "source": [
    "# Null cells per column\n",
    "crimes_df.isnull().sum()\n",
    "# set(crimes_df['City'])"
   ]
  },
  {
   "cell_type": "markdown",
   "metadata": {},
   "source": [
    "## Columns information\n",
    "---\n",
    "\n",
    "| Columns name           | Descriprition | Actual type | Expected type |\n",
    "| :--------------------- | :------------ | ----------- | ------------- |\n",
    "| Incident ID            | Unique identifier from database | int64 | - |\n",
    "| CR Number              | Police Report Number | int64 | - |\n",
    "| Dispatch Date / Time   | The actual date and time a Officer was dispatched | object | datetime |\n",
    "| Class                  | Four digit code identifying the crime type of the incident | int64  | - |\n",
    "| Class Description      | Common name description of the incident class type | object | - |\n",
    "| Police District Name   | Name of District (Rockville,Weaton etc.) | object | - |\n",
    "| Block Address          | Address in 100 block level | object | - |\n",
    "| City                   | City | object | - |\n",
    "| State                  | State | object | - |\n",
    "| Zip Code               | Zip Code | float64 | int64 |\n",
    "| Agency                 | Assigned Police Department | object | - |\n",
    "| Place                  | Place description | object | - |\n",
    "| Sector                 | Police Sector Name | object | - |\n",
    "| Beat                   | Police patrol area subset within District | object | - |\n",
    "| PRA                    | Police patrol are subset within Beat | float64 | int64 |\n",
    "| Start Date / Time      | Occurred from date/time | object | datetime |\n",
    "| End Date / Time        | Occurred to date/time | object | datetime |\n",
    "| Latitude               | Latitude of the location of the ocorrence | float64 | - |\n",
    "| Longitude              | Longitude of the location of the ocorrence | float64 | - |\n",
    "| Police District Number | Major Police Boundary | object | - |\n",
    "| Location               | Location - This column store the data of the GPS coordinates of the incident as a string in the pattern: (&lt;latitude&gt;, &lt;longitude&gt;) | object | - |\n",
    "| Address Number         | Address Number - The number extraced from block address column, as same rows does not have a number in 'Block Address', same 'Address Number' have a missing value.| float64 | int64/object "
   ]
  },
  {
   "cell_type": "code",
   "execution_count": 5,
   "metadata": {},
   "outputs": [
    {
     "data": {
      "text/plain": [
       "0"
      ]
     },
     "execution_count": 5,
     "metadata": {},
     "output_type": "execute_result"
    }
   ],
   "source": [
    "# Função para comparação entre as colunas de 'Location' e 'Latitude' e 'Longitude'\n",
    "def check_coordinates(row):\n",
    "    if type(row['Location']) != float:\n",
    "        loc_splited = pd.to_numeric(row['Location'][1:-1].split(','))\n",
    "        return row['Latitude'] == loc_splited[0] and row['Longitude'] == loc_splited[1]\n",
    "    else:\n",
    "        return pd.isnull(row['Latitude']) and pd.isnull(row['Longitude'])\n",
    "\n",
    "(~crimes_df.apply(check_coordinates, axis=1)).sum()"
   ]
  },
  {
   "cell_type": "code",
   "execution_count": 6,
   "metadata": {},
   "outputs": [
    {
     "data": {
      "text/plain": [
       "0"
      ]
     },
     "execution_count": 6,
     "metadata": {},
     "output_type": "execute_result"
    }
   ],
   "source": [
    "# Função para comparação entre as colunas de 'Block Address' e 'Address Number'\n",
    "def check_addr_number(row):\n",
    "    block = row['Block Address']\n",
    "    numbers_in_block = [pd.to_numeric(s) for s in block.split() if s.isdigit()]\n",
    "    if len(numbers_in_block) > 0: \n",
    "        addr_number = pd.to_numeric(numbers_in_block[0])\n",
    "        # Same number at 'Address Number' and 'Block Address' columns\n",
    "        return addr_number == row['Address Number']\n",
    "    else:\n",
    "        # When 'Block Address' has no number 'Address Number' is null.\n",
    "        return pd.isnull(row['Address Number'])    \n",
    "    \n",
    "(~crimes_df.apply(check_addr_number, axis=1)).sum()"
   ]
  },
  {
   "cell_type": "markdown",
   "metadata": {},
   "source": [
    "## Missing values\n",
    "---\n",
    "Almost all columns that have a missing value are associated with localization but the \"End Date / Time\" which have nearly 40% with 'nan' values. The localization columns with missing values are:\n",
    "- Zip Code\n",
    "- Sector\n",
    "- Beat\n",
    "- PRA\n",
    "- Latitude\n",
    "- Longitude\n",
    "- Location\n",
    "- Address Number\n",
    "\n",
    "Is important to note that e the location column is a pair of latitude and longitude, so the latitude and longitude columns have de same information extracted from location, this implies that the lines with missing values for locatation also missing values for latitude and longitude.\n",
    "\n",
    "Another derivated column is 'Address Number', which is the first number extracted from the 'Block Address' column, when it have a number. 'Block Address' does not have missing values but 'Address Number' have because same row does not have a number at 'Block Address' even having a address.\n",
    "\n",
    "This makes the missing values analysis focus on:\n",
    "- Zip Code\n",
    "- Sector\n",
    "- Beat\n",
    "- PRA\n",
    "\n",
    "Besides de 'Zip Code', all columns are related with police sectorization. Probabily, these values are missing for not respecting the 100 block level. There still other columns related with police sectorization without missing values:\n",
    "- Police Disctrict Name\n",
    "- Agency\n",
    "\n",
    "These columns also have greater area than the columns with missing values."
   ]
  },
  {
   "cell_type": "markdown",
   "metadata": {},
   "source": [
    "# 3. Analyzing the times of crimes\n",
    "---"
   ]
  },
  {
   "cell_type": "code",
   "execution_count": 7,
   "metadata": {
    "collapsed": true
   },
   "outputs": [],
   "source": [
    "dispatch_time = pd.to_datetime(crimes_df['Dispatch Date / Time'])"
   ]
  },
  {
   "cell_type": "code",
   "execution_count": 10,
   "metadata": {
    "scrolled": true
   },
   "outputs": [
    {
     "data": {
      "text/plain": [
       "Tuesday      3836\n",
       "Monday       3734\n",
       "Wednesday    3611\n",
       "Friday       3594\n",
       "Thursday     3404\n",
       "Saturday     2807\n",
       "Sunday       2383\n",
       "Name: Dispatch Date / Time, dtype: int64"
      ]
     },
     "execution_count": 10,
     "metadata": {},
     "output_type": "execute_result"
    }
   ],
   "source": [
    "dispatch_time.dt.weekday_name.value_counts()"
   ]
  },
  {
   "cell_type": "code",
   "execution_count": 19,
   "metadata": {},
   "outputs": [
    {
     "data": {
      "text/plain": [
       "0    3734\n",
       "1    3836\n",
       "2    3611\n",
       "3    3404\n",
       "4    3594\n",
       "5    2807\n",
       "6    2383\n",
       "Name: Dispatch Date / Time, dtype: int64"
      ]
     },
     "execution_count": 19,
     "metadata": {},
     "output_type": "execute_result"
    }
   ],
   "source": [
    "dispatch_time.dt.weekday.value_counts().sort_index()"
   ]
  },
  {
   "cell_type": "code",
   "execution_count": 20,
   "metadata": {},
   "outputs": [
    {
     "data": {
      "text/plain": [
       "7     1278\n",
       "9     1222\n",
       "16    1211\n",
       "15    1179\n",
       "8     1174\n",
       "14    1142\n",
       "13    1132\n",
       "18    1119\n",
       "10    1116\n",
       "17    1115\n",
       "11    1105\n",
       "6     1076\n",
       "20    1065\n",
       "12    1063\n",
       "23    1039\n",
       "19    1030\n",
       "22    1022\n",
       "21    1012\n",
       "0      904\n",
       "1      855\n",
       "2      684\n",
       "3      376\n",
       "4      228\n",
       "5      222\n",
       "Name: Dispatch Date / Time, dtype: int64"
      ]
     },
     "execution_count": 20,
     "metadata": {},
     "output_type": "execute_result"
    }
   ],
   "source": [
    "dispatch_time.dt.hour.value_counts()"
   ]
  },
  {
   "cell_type": "code",
   "execution_count": 21,
   "metadata": {},
   "outputs": [
    {
     "data": {
      "text/plain": [
       "0      904\n",
       "1      855\n",
       "2      684\n",
       "3      376\n",
       "4      228\n",
       "5      222\n",
       "6     1076\n",
       "7     1278\n",
       "8     1174\n",
       "9     1222\n",
       "10    1116\n",
       "11    1105\n",
       "12    1063\n",
       "13    1132\n",
       "14    1142\n",
       "15    1179\n",
       "16    1211\n",
       "17    1115\n",
       "18    1119\n",
       "19    1030\n",
       "20    1065\n",
       "21    1012\n",
       "22    1022\n",
       "23    1039\n",
       "Name: Dispatch Date / Time, dtype: int64"
      ]
     },
     "execution_count": 21,
     "metadata": {},
     "output_type": "execute_result"
    }
   ],
   "source": [
    "dispatch_time.dt.hour.value_counts().sort_index()"
   ]
  },
  {
   "cell_type": "code",
   "execution_count": 14,
   "metadata": {},
   "outputs": [
    {
     "data": {
      "text/plain": [
       "October      4075\n",
       "August       4002\n",
       "November     3941\n",
       "September    3927\n",
       "December     3904\n",
       "July         3520\n",
       "Name: Dispatch Date / Time, dtype: int64"
      ]
     },
     "execution_count": 14,
     "metadata": {},
     "output_type": "execute_result"
    }
   ],
   "source": [
    "dispatch_time.dt.strftime('%B').value_counts()"
   ]
  },
  {
   "cell_type": "code",
   "execution_count": 23,
   "metadata": {},
   "outputs": [
    {
     "data": {
      "text/plain": [
       "7     3520\n",
       "8     4002\n",
       "9     3927\n",
       "10    4075\n",
       "11    3941\n",
       "12    3904\n",
       "Name: Dispatch Date / Time, dtype: int64"
      ]
     },
     "execution_count": 23,
     "metadata": {},
     "output_type": "execute_result"
    }
   ],
   "source": [
    "dispatch_time.dt.month.value_counts().sort_index()"
   ]
  },
  {
   "cell_type": "markdown",
   "metadata": {},
   "source": [
    "### What day of the week are the most crimes committed on? (ie Monday, Tuesday, etc)\n",
    "\n",
    "It's simple to see that tuesday is the day most crimes are committed but the diferrence between other days like monday are not much significant.The crimes are more frequent during de week having almost 600 hundreds of diference between saturday and thursday, the weekend day with more crimes and the not weekend day with less crimes.\n",
    "\n",
    "### During what time of day are the most crimes committed?\n",
    "\n",
    "Again it's simple to find that the majority of crimes ocur at 7 in the morning but again the difference between other hours are not much significant. But we can draw more info of these date, for example, between 0 hour and 5 hour have a decreasing pattern and the window at 3-5 hours are really low in contrast with the rest of the day. Another interesting aspect is that the peaks are at high intense traffic (7, 9 and 16), hours that people goes to and back school and work.\n",
    "\n",
    "### During what month are the most crimes committed?\n",
    "\n",
    "October is the month with more ocurrences of crimes in this dataset, but the crimes occur alike. The most off month is July. The dataset is not extent enough for extract info about that for two reasons: the dataset have only half months of the year of 2013 and have data about only one year. To extract this kind of information of seasonality it's needed more data dispersaded through the hole year.\n"
   ]
  },
  {
   "cell_type": "markdown",
   "metadata": {},
   "source": [
    "# 4. Analyzing locations of crimes\n",
    "---"
   ]
  },
  {
   "cell_type": "code",
   "execution_count": 32,
   "metadata": {},
   "outputs": [
    {
     "data": {
      "text/plain": [
       "SILVER SPRING         8626\n",
       "ROCKVILLE             3453\n",
       "GAITHERSBURG          3403\n",
       "GERMANTOWN            2170\n",
       "BETHESDA              1736\n",
       "MONTGOMERY VILLAGE     687\n",
       "POTOMAC                527\n",
       "CHEVY CHASE            498\n",
       "OLNEY                  380\n",
       "KENSINGTON             363\n",
       "BURTONSVILLE           304\n",
       "DERWOOD                270\n",
       "DAMASCUS               230\n",
       "CLARKSBURG             173\n",
       "TAKOMA PARK            141\n",
       "POOLESVILLE            105\n",
       "BOYDS                   90\n",
       "BROOKEVILLE             70\n",
       "SANDY SPRING            43\n",
       "DICKERSON               26\n",
       "ASHTON                  19\n",
       "CABIN JOHN              18\n",
       "SPENCERVILLE             9\n",
       "WASHINGTON GROVE         6\n",
       "BRINKLOW                 5\n",
       "BARNESVILLE              4\n",
       "GLEN ECHO                4\n",
       "MOUNT AIRY               3\n",
       "BEALLSVILLE              2\n",
       "LAUREL                   2\n",
       "HYATTSVILLE              1\n",
       "KISSIMMEE                1\n",
       "Name: City, dtype: int64"
      ]
     },
     "execution_count": 32,
     "metadata": {},
     "output_type": "execute_result"
    }
   ],
   "source": [
    "crimes_df['City'].value_counts()"
   ]
  },
  {
   "cell_type": "code",
   "execution_count": 33,
   "metadata": {},
   "outputs": [
    {
     "data": {
      "text/plain": [
       "SILVER SPRING         5533\n",
       "WHEATON               4375\n",
       "MONTGOMERY VILLAGE    3812\n",
       "ROCKVILLE             3480\n",
       "BETHESDA              3383\n",
       "GERMANTOWN            2755\n",
       "TAKOMA PARK             23\n",
       "OTHER                    8\n",
       "Name: Police District Name, dtype: int64"
      ]
     },
     "execution_count": 33,
     "metadata": {},
     "output_type": "execute_result"
    }
   ],
   "source": [
    "crimes_df['Police District Name'].value_counts()"
   ]
  },
  {
   "cell_type": "code",
   "execution_count": 35,
   "metadata": {},
   "outputs": [
    {
     "data": {
      "text/plain": [
       "3D       5533\n",
       "4D       4375\n",
       "6D       3812\n",
       "1D       3480\n",
       "2D       3383\n",
       "5D       2755\n",
       "TPPD       23\n",
       "OTHER       8\n",
       "Name: Police District Number, dtype: int64"
      ]
     },
     "execution_count": 35,
     "metadata": {},
     "output_type": "execute_result"
    }
   ],
   "source": [
    "crimes_df['Police District Number'].value_counts()"
   ]
  },
  {
   "cell_type": "markdown",
   "metadata": {},
   "source": [
    "### In what area did the most crimes occur? What physical locations (like cities) does this area correspond to?\n",
    "\n",
    "Analyzing by city we can say that Silver Spring has the most crimes by far, while analizing by Police District, the distribution is not so accetuate at one place but having Silver Spring as the Police District with more crimes. This can be confusing but the city of Silver Spring is located in the border of different police districts which causes de Silver Spring district have different total crimes than the city of Silver Spring.\n",
    "\n",
    "### Which area has the highest number of crimes per capita? You may be able to find population data per area online. For example, this annual report has per-district populations towards the bottom.\n",
    "// Later\n"
   ]
  },
  {
   "cell_type": "markdown",
   "metadata": {},
   "source": [
    "# 5. Analyzing types of crime\n",
    "---"
   ]
  },
  {
   "cell_type": "code",
   "execution_count": null,
   "metadata": {
    "collapsed": true
   },
   "outputs": [],
   "source": []
  },
  {
   "cell_type": "markdown",
   "metadata": {},
   "source": [
    "# 6. Combine Analysis\n",
    "---"
   ]
  },
  {
   "cell_type": "code",
   "execution_count": null,
   "metadata": {
    "collapsed": true
   },
   "outputs": [],
   "source": []
  },
  {
   "cell_type": "markdown",
   "metadata": {},
   "source": [
    "# 7. Posing and answering your own questions\n",
    "---"
   ]
  },
  {
   "cell_type": "code",
   "execution_count": null,
   "metadata": {
    "collapsed": true
   },
   "outputs": [],
   "source": []
  },
  {
   "cell_type": "markdown",
   "metadata": {},
   "source": [
    "# Ideias de análise\n",
    "***\n",
    " - Distribuição de intervalo entre \n",
    " - <strike>Perfil de crimes por localidade</strike>\n",
    " - Analisar se nulidade das colunas relacionadas a localizção tem relação"
   ]
  },
  {
   "cell_type": "markdown",
   "metadata": {},
   "source": [
    "# Referências\n",
    "\n",
    "[Descrição de códigos de classe][response_codes]: Está página contém a descrição das classes das ocorrências listadas no dataset e define um agrupamento para os códigos. Estes agrupamentos foram utilizados para classificar as ocorrências, foi necessário criar alguns agrupamentos para códigos específicos que não possuem grupos no link referenciado.\n",
    "\n",
    "[Relatório policial Rockerville][uniform_crime_stat_report]: Relatório policial comparativo entre os anos de 2013 e 2014. Este relatório foi utilizado para obter algum entendimento sobre o sistema policial de relatórios implementado nos Estados Unidos.\n",
    "\n",
    "[Manual para sistema de relatório uniforme de crimes][ucr_handbook]: Uniform Crime Reporting é uma iniciativa do governo americano para análise estatística dos crimes. Foi concebido em 1929 e em 1930 o FBI foi incubido de coletar, publicar e armazenar esses dados.\n",
    "\n",
    "[Mapa policial][mont_county_pol_map]: Mapa Policial interativo do Condado de Montgomenry, Maryland.\n",
    "\n",
    "[Fonte dataset][dataset]: Link com origem do dataset com definições sobre as colunas, também provê um ambiente para análise.\n",
    "\n",
    "[response_codes]: http://wiki.radioreference.com/index.php/Montgomery_County_(MD)_Response_Codes \"Montgomery County (MD) Response Codes\"\n",
    "[uniform_crime_stat_report]: http://www.rockvillemd.gov/DocumentCenter/View/10969 \"Uniform Crime Statistics Report - Rockville City Police Department\"\n",
    "[ucr_handbook]: https://www2.fbi.gov/ucr/handbook/ucrhandbook04.pdf \"Uniform Crime Report Handbook\"\n",
    "[mont_county_pol_map]: http://mcgov-gis.maps.arcgis.com/apps/Viewer/index.html?appid=4317830a05654b8f907e65515970a5ba \"Montgomery County Police Map\"\n",
    "\n",
    "[dataset]: https://data.policefoundation.org/Incidents/Montgomery-County-MD-MCPD-Incidents-07-2003-/c2mn-zwn5 \"Montgomery County, MD - MCPD Incidents \""
   ]
  }
 ],
 "metadata": {
  "kernelspec": {
   "display_name": "Python 3",
   "language": "python",
   "name": "python3"
  },
  "language_info": {
   "codemirror_mode": {
    "name": "ipython",
    "version": 3
   },
   "file_extension": ".py",
   "mimetype": "text/x-python",
   "name": "python",
   "nbconvert_exporter": "python",
   "pygments_lexer": "ipython3",
   "version": "3.6.0"
  }
 },
 "nbformat": 4,
 "nbformat_minor": 2
}
